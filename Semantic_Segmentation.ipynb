{
  "nbformat": 4,
  "nbformat_minor": 0,
  "metadata": {
    "colab": {
      "name": "Semantic Segmentation.ipynb",
      "provenance": [],
      "collapsed_sections": [],
      "mount_file_id": "1jCuFfDX_kYggZY38g-sYFmAI2FDgZMZN",
      "authorship_tag": "ABX9TyN/5sMNuifgqVCbq7+Oy1UE",
      "include_colab_link": true
    },
    "kernelspec": {
      "name": "python3",
      "display_name": "Python 3"
    },
    "language_info": {
      "name": "python"
    }
  },
  "cells": [
    {
      "cell_type": "markdown",
      "metadata": {
        "id": "view-in-github",
        "colab_type": "text"
      },
      "source": [
        "<a href=\"https://colab.research.google.com/github/gandhisamay/Drone-Cam-Segmentation/blob/main/Semantic_Segmentation.ipynb\" target=\"_parent\"><img src=\"https://colab.research.google.com/assets/colab-badge.svg\" alt=\"Open In Colab\"/></a>"
      ]
    },
    {
      "cell_type": "markdown",
      "metadata": {
        "id": "jON0JqZfOEeT"
      },
      "source": [
        "## **Semantic Segmentation - Samay Gandhi** \n",
        "## **Pytorch**\n",
        "\n",
        "### *Check the specifications of gpu*"
      ]
    },
    {
      "cell_type": "code",
      "metadata": {
        "colab": {
          "base_uri": "https://localhost:8080/"
        },
        "id": "J-tT27Daf6DP",
        "outputId": "830b82d1-0ccb-45b4-cac3-d2c8da9e3451"
      },
      "source": [
        "# !pip install torch==1.8.0+cu111 torchvision==0.9.0+cu111 torchaudio==0.8.0 -f https://download.pytorch.org/whl/torch_stable.html\n",
        "# memory footprint support libraries/code\n",
        "!ln -sf /opt/bin/nvidia-smi /usr/bin/nvidia-smi\n",
        "!pip install gputil\n",
        "!pip install psutil\n",
        "!pip install humanize\n",
        "import psutil\n",
        "import humanize\n",
        "import os\n",
        "import GPUtil as GPU\n",
        "GPUs = GPU.getGPUs()\n",
        "# XXX: only one GPU on Colab and isn’t guaranteed\n",
        "gpu = GPUs[0]\n",
        "def printm():\n",
        " process = psutil.Process(os.getpid())\n",
        " print(\"Gen RAM Free: \" + humanize.naturalsize( psutil.virtual_memory().available ), \" | Proc size: \" + humanize.naturalsize( process.memory_info().rss))\n",
        " print(\"GPU RAM Free: {0:.0f}MB | Used: {1:.0f}MB | Util {2:3.0f}% | Total {3:.0f}MB\".format(gpu.memoryFree, gpu.memoryUsed, gpu.memoryUtil*100, gpu.memoryTotal))\n",
        "printm()"
      ],
      "execution_count": null,
      "outputs": [
        {
          "output_type": "stream",
          "text": [
            "Requirement already satisfied: gputil in /usr/local/lib/python3.7/dist-packages (1.4.0)\n",
            "Requirement already satisfied: psutil in /usr/local/lib/python3.7/dist-packages (5.4.8)\n",
            "Requirement already satisfied: humanize in /usr/local/lib/python3.7/dist-packages (0.5.1)\n",
            "Gen RAM Free: 12.7 GB  | Proc size: 116.6 MB\n",
            "GPU RAM Free: 15109MB | Used: 0MB | Util   0% | Total 15109MB\n"
          ],
          "name": "stdout"
        }
      ]
    },
    {
      "cell_type": "code",
      "metadata": {
        "colab": {
          "base_uri": "https://localhost:8080/"
        },
        "id": "T49EAMFNqCAn",
        "outputId": "08c36cc5-7249-4869-b781-cac43b200e18"
      },
      "source": [
        "%cd '/content/drive/MyDrive/Datasets /Semantic Drone Dataset'"
      ],
      "execution_count": null,
      "outputs": [
        {
          "output_type": "stream",
          "text": [
            "/content/drive/MyDrive/Datasets /Semantic Drone Dataset\n"
          ],
          "name": "stdout"
        }
      ]
    },
    {
      "cell_type": "markdown",
      "metadata": {
        "id": "hb0z0QSAOgb0"
      },
      "source": [
        "## *Import necessary libraries*"
      ]
    },
    {
      "cell_type": "code",
      "metadata": {
        "id": "q14Tkf40gQkn"
      },
      "source": [
        "import numpy as np\n",
        "import pandas as pd\n",
        "import matplotlib.pyplot as plt\n",
        "from tqdm import tqdm\n",
        "import cv2\n",
        "from PIL import Image\n",
        "%matplotlib inline"
      ],
      "execution_count": null,
      "outputs": []
    },
    {
      "cell_type": "code",
      "metadata": {
        "id": "XspWt1TngTES"
      },
      "source": [
        "import torch \n",
        "import torch.nn as nn \n",
        "from torch.utils.data import DataLoader,Dataset,random_split\n",
        "from torchvision import transforms \n",
        "from torchvision import datasets\n",
        "import torchvision.transforms.functional as TF\n",
        "import torch.nn.functional as F\n",
        "from torch.autograd import Variable"
      ],
      "execution_count": null,
      "outputs": []
    },
    {
      "cell_type": "code",
      "metadata": {
        "id": "NFQl2FI-RGlc"
      },
      "source": [
        "DEVICE = 'cuda' if torch.cuda.is_available() else 'cpu'\n",
        "LR = 1e-4"
      ],
      "execution_count": null,
      "outputs": []
    },
    {
      "cell_type": "markdown",
      "metadata": {
        "id": "m3T9kI56OrAH"
      },
      "source": [
        "## *View the Images*"
      ]
    },
    {
      "cell_type": "code",
      "metadata": {
        "id": "ekaQT47GXC4s"
      },
      "source": [
        "\n",
        "images = 'dataset/semantic_drone_dataset/Original_Images'\n",
        "rgb_masks = 'RGB_color_image_masks'\n",
        "labels = 'dataset/semantic_drone_dataset/Labels'\n",
        "\n",
        "image = Image.open(images + '/original_images/594.jpg')\n",
        "rgb_mask = Image.open(rgb_masks + '/RGB_color_image_masks/594.png')\n",
        "label = Image.open(labels + '/label_images_semantic/594.png')\n",
        "\n",
        "fig = plt.figure(figsize=(32,32))\n",
        "rows = 1\n",
        "columns = 3\n",
        "\n",
        "fig.add_subplot(rows,columns,1)\n",
        "plt.imshow(image)\n",
        "plt.axis('off')\n",
        "plt.title(\"Image\")\n",
        "\n",
        "fig.add_subplot(rows,columns,2)\n",
        "plt.imshow(rgb_mask,alpha=0.9)\n",
        "plt.axis('off')\n",
        "plt.title(\"Label with RGB mask\")\n",
        "\n",
        "fig.add_subplot(rows,columns,3)\n",
        "plt.imshow(label, cmap='gray')\n",
        "plt.axis('off')\n",
        "plt.title(\"Label with mask\")"
      ],
      "execution_count": null,
      "outputs": []
    },
    {
      "cell_type": "markdown",
      "metadata": {
        "id": "GhsyYP5XO0P2"
      },
      "source": [
        "## *Dataset class and Dataloaders*"
      ]
    },
    {
      "cell_type": "code",
      "metadata": {
        "id": "1F8bcQBSnpT1"
      },
      "source": [
        "# 0 : others - 0\n",
        "# 1 : area - 1\n",
        "# 9 : roof - 2\n",
        "# 3 : grass - 3\n",
        "# 5 : water - 4\n",
        "# 15 : person - 5 \n",
        "# 17 : car - 6"
      ],
      "execution_count": null,
      "outputs": []
    },
    {
      "cell_type": "code",
      "metadata": {
        "id": "yI03qU21V35o"
      },
      "source": [
        "class DroneDataset(Dataset):\n",
        "    def __init__(self,images_path,labels_path):\n",
        "        self.images = datasets.ImageFolder(images_path,\n",
        "                                       transform=transforms.Compose([\n",
        "                                          transforms.Resize((256,256)),\n",
        "                                          transforms.ToTensor(),\n",
        "                                          transforms.Normalize(mean=(0.485, 0.456, 0.406), std=(0.229, 0.224, 0.225))\n",
        "                                       ]))\n",
        "        self.labels = datasets.ImageFolder(labels_path,transform=transforms.Compose([\n",
        "                                          transforms.Grayscale(),\n",
        "                                          transforms.Resize((256,256)),\n",
        "                                          transforms.ToTensor()\n",
        "        ]))\n",
        "\n",
        "    def __getitem__(self,index): \n",
        "        img_output = self.labels[index][0]\n",
        "        img_output = 255*img_output\n",
        "        #Manipulate the label Images\n",
        "        mask = np.array([[0,0],\n",
        "                         [1,1],\n",
        "                         [2,0],\n",
        "                         [3,3],\n",
        "                         [4,1],\n",
        "                         [5,5],\n",
        "                         [6,0],\n",
        "                         [7,5],\n",
        "                         [8,3],\n",
        "                         [9,2],\n",
        "                         [10,0],\n",
        "                         [11,2],\n",
        "                          [12,2],\n",
        "                          [13,0],\n",
        "                          [14,0],\n",
        "                          [15,5],\n",
        "                          [16,5],\n",
        "                          [17,6],\n",
        "                          [18,6],\n",
        "                          [19,3],\n",
        "                          [20,3],\n",
        "                          [21,0],\n",
        "                          [22,0],\n",
        "                          [23,0]\n",
        "                        ])\n",
        "        for i in range(0,24):\n",
        "          img_output[img_output == i] = mask[i][1]\n",
        "\n",
        "        img_output = img_output.to(torch.int64)\n",
        "        return self.images[index][0],img_output\n",
        "  \n",
        "    def __len__(self):\n",
        "        return len(self.images)"
      ],
      "execution_count": null,
      "outputs": []
    },
    {
      "cell_type": "code",
      "metadata": {
        "id": "pqxli5R5cOY4"
      },
      "source": [
        "dataset = DroneDataset(images,labels)"
      ],
      "execution_count": null,
      "outputs": []
    },
    {
      "cell_type": "code",
      "metadata": {
        "colab": {
          "base_uri": "https://localhost:8080/"
        },
        "id": "mbpu3Efc4Hmn",
        "outputId": "33f11282-53e5-43e4-c661-8074b7aacaef"
      },
      "source": [
        "torch.unique(dataset[2][1])"
      ],
      "execution_count": null,
      "outputs": [
        {
          "output_type": "execute_result",
          "data": {
            "text/plain": [
              "tensor([0, 1, 2, 3, 5, 6])"
            ]
          },
          "metadata": {
            "tags": []
          },
          "execution_count": 12
        }
      ]
    },
    {
      "cell_type": "code",
      "metadata": {
        "id": "Hhpk8p2h4Tdc"
      },
      "source": [
        "#Split the data into train and val dataset\n",
        "n_val = 10\n",
        "\n",
        "train_dataset,val_dataset = random_split(dataset,[len(dataset)-n_val,n_val],generator=torch.Generator().manual_seed(42))"
      ],
      "execution_count": null,
      "outputs": []
    },
    {
      "cell_type": "code",
      "metadata": {
        "id": "7Ja5hiGnpgTG"
      },
      "source": [
        "#Make the data_loader now so that the data is ready for training\n",
        "batch_size = 4\n",
        "\n",
        "train_loader = DataLoader(train_dataset,batch_size)\n",
        "test_loader  = DataLoader(val_dataset,batch_size*2)"
      ],
      "execution_count": null,
      "outputs": []
    },
    {
      "cell_type": "markdown",
      "metadata": {
        "id": "slSzGj4tPCnZ"
      },
      "source": [
        "## *Model*"
      ]
    },
    {
      "cell_type": "code",
      "metadata": {
        "id": "PuErt0Drplir"
      },
      "source": [
        "#Define the CNN block now\n",
        "#Defined as per the U-net Structure \n",
        "#Made some modifications too to the original structure\n",
        "class DoubleCNNBlock(nn.Module):\n",
        "    def __init__(self,in_channels,out_channels):\n",
        "        super().__init__()\n",
        "        self.conv1 = nn.Conv2d(\n",
        "            in_channels=in_channels,\n",
        "            out_channels=out_channels,\n",
        "            kernel_size=3,\n",
        "            padding=1,\n",
        "            stride=1,\n",
        "            bias=False\n",
        "        )\n",
        "        self.bn1 = nn.BatchNorm2d(\n",
        "            out_channels\n",
        "        )\n",
        "        self.act1 = nn.ReLU()\n",
        "        self.conv2 = nn.Conv2d(\n",
        "            in_channels=out_channels,\n",
        "            out_channels=out_channels,\n",
        "            kernel_size=3,\n",
        "            padding=1,\n",
        "            stride=1,\n",
        "            bias=False\n",
        "        )\n",
        "        self.bn2 = nn.BatchNorm2d(\n",
        "            out_channels\n",
        "        )\n",
        "        self.act2 = nn.ReLU() \n",
        "    def forward(self,x):\n",
        "        out = self.act1(self.bn1(self.conv1(x)))\n",
        "        out = self.act2(self.bn2(self.conv2(out)))\n",
        "        return out"
      ],
      "execution_count": null,
      "outputs": []
    },
    {
      "cell_type": "code",
      "metadata": {
        "id": "bEQwg-BXpp07"
      },
      "source": [
        "class UpConv(nn.Module):\n",
        "    def __init__(self,in_channels,out_channels):\n",
        "        super().__init__()\n",
        "        self.tconv = nn.ConvTranspose2d(\n",
        "            in_channels=in_channels,\n",
        "            out_channels=out_channels,\n",
        "            kernel_size=2,\n",
        "            stride=2\n",
        "        ) \n",
        "\n",
        "    def forward(self,x,skip_connection):\n",
        "        out = self.tconv(x)\n",
        "        if out.shape != skip_connection.shape:\n",
        "            out = TF.resize(out ,size=skip_connection.shape[2:])\n",
        "        out = torch.cat([skip_connection,out],axis = 1)\n",
        "        return out"
      ],
      "execution_count": null,
      "outputs": []
    },
    {
      "cell_type": "code",
      "metadata": {
        "id": "WS1Iy0WgpstB"
      },
      "source": [
        "class Bottom(nn.Module):\n",
        "    def __init__(self,channel=[128,256]):\n",
        "        super().__init__()\n",
        "        self.channel=channel\n",
        "        self.conv1 = nn.Conv2d(\n",
        "            in_channels=self.channel[0],\n",
        "            out_channels=self.channel[1],\n",
        "            kernel_size=3,\n",
        "            padding=1,\n",
        "            stride=1,\n",
        "            bias=False\n",
        "        )\n",
        "        self.bn1 = nn.BatchNorm2d(\n",
        "            self.channel[1]\n",
        "        )\n",
        "        self.act1 = nn.ReLU()\n",
        "        self.conv2 = nn.Conv2d(\n",
        "            in_channels=self.channel[1],\n",
        "            out_channels=self.channel[1],\n",
        "            kernel_size=3,\n",
        "            padding=1,\n",
        "            stride=1,\n",
        "            bias=False\n",
        "        )\n",
        "        self.bn2 = nn.BatchNorm2d(\n",
        "            self.channel[1]\n",
        "        )\n",
        "        self.act2 = nn.ReLU()\n",
        "        \n",
        "        self.bottom = nn.Sequential(\n",
        "            self.conv1,\n",
        "            self.bn1,\n",
        "            self.act1,\n",
        "            self.conv2,\n",
        "            self.bn2,\n",
        "            self.act2\n",
        "        )\n",
        "    def forward(self,x):\n",
        "#         out = self.act1(self.bn1(self.conv1(x)))\n",
        "#         print(\"1:{}\".format(out.shape))\n",
        "#         out = self.act2(self.bn2(self.conv2(out)))\n",
        "#         print(\"2:{}\".format(out.shape))\n",
        "        return self.bottom(x)"
      ],
      "execution_count": null,
      "outputs": []
    },
    {
      "cell_type": "code",
      "metadata": {
        "id": "-4AVhUAlY5FP"
      },
      "source": [
        "class Unet(nn.Module):\n",
        "    def __init__(self,num_classes,filters=[16,32,64,128],input_channels=3):\n",
        "        super().__init__()\n",
        "        self.contract = nn.ModuleList()\n",
        "        self.expand   = nn.ModuleList()                      #64 - #128 - #256 - #512 - #1024 -#512\n",
        "        self.filters  = filters\n",
        "        self.input_channels = input_channels\n",
        "        self.num_classes = num_classes \n",
        "        \n",
        "        self.pool = nn.MaxPool2d(\n",
        "            kernel_size=2,\n",
        "            stride=2\n",
        "        )\n",
        "        \n",
        "        for filters in self.filters:\n",
        "            self.contract.append(\n",
        "                DoubleCNNBlock(\n",
        "                    in_channels=input_channels,\n",
        "                    out_channels=filters\n",
        "                )\n",
        "            )\n",
        "            input_channels = filters\n",
        "            \n",
        "        for filters in reversed(self.filters):\n",
        "            self.expand.append(\n",
        "                UpConv(\n",
        "                    in_channels=filters*2,\n",
        "                    out_channels=filters\n",
        "                )\n",
        "            )\n",
        "            self.expand.append(\n",
        "                DoubleCNNBlock(\n",
        "                    in_channels=filters*2,\n",
        "                    out_channels=filters\n",
        "                )\n",
        "            )\n",
        "            \n",
        "        self.final = nn.Conv2d(\n",
        "                    in_channels=self.filters[0],\n",
        "                    out_channels=num_classes,\n",
        "                    kernel_size=3,\n",
        "                    padding=1,\n",
        "                    stride=1\n",
        "                    )\n",
        "            \n",
        "    def forward(self,x):\n",
        "        skip_connections = []\n",
        "        \n",
        "        for downs in self.contract:\n",
        "            out = downs(x)\n",
        "            skip_connections.append(out)\n",
        "            out   = self.pool(out)\n",
        "            x = out\n",
        "        \n",
        "        bottom = Bottom()\n",
        "        bottom.to(DEVICE)\n",
        "        y = bottom(x)\n",
        "        \n",
        "        for idx in range(0,len(self.expand),2):\n",
        "            skip_connection = skip_connections[len(skip_connections)-idx//2-1]\n",
        "            y = self.expand[idx](y,skip_connection)\n",
        "            y = self.expand[idx+1](y)\n",
        "            \n",
        "        return self.final(y)"
      ],
      "execution_count": null,
      "outputs": []
    },
    {
      "cell_type": "code",
      "metadata": {
        "colab": {
          "base_uri": "https://localhost:8080/"
        },
        "id": "_XIipuU9pyzS",
        "outputId": "4cd8f28f-a03b-4313-b5c6-566ebcaf10ef"
      },
      "source": [
        "model = Unet(num_classes=8)\n",
        "model.to(DEVICE)"
      ],
      "execution_count": null,
      "outputs": [
        {
          "output_type": "execute_result",
          "data": {
            "text/plain": [
              "Unet(\n",
              "  (contract): ModuleList(\n",
              "    (0): DoubleCNNBlock(\n",
              "      (conv1): Conv2d(3, 16, kernel_size=(3, 3), stride=(1, 1), padding=(1, 1), bias=False)\n",
              "      (bn1): BatchNorm2d(16, eps=1e-05, momentum=0.1, affine=True, track_running_stats=True)\n",
              "      (act1): ReLU()\n",
              "      (conv2): Conv2d(16, 16, kernel_size=(3, 3), stride=(1, 1), padding=(1, 1), bias=False)\n",
              "      (bn2): BatchNorm2d(16, eps=1e-05, momentum=0.1, affine=True, track_running_stats=True)\n",
              "      (act2): ReLU()\n",
              "    )\n",
              "    (1): DoubleCNNBlock(\n",
              "      (conv1): Conv2d(16, 32, kernel_size=(3, 3), stride=(1, 1), padding=(1, 1), bias=False)\n",
              "      (bn1): BatchNorm2d(32, eps=1e-05, momentum=0.1, affine=True, track_running_stats=True)\n",
              "      (act1): ReLU()\n",
              "      (conv2): Conv2d(32, 32, kernel_size=(3, 3), stride=(1, 1), padding=(1, 1), bias=False)\n",
              "      (bn2): BatchNorm2d(32, eps=1e-05, momentum=0.1, affine=True, track_running_stats=True)\n",
              "      (act2): ReLU()\n",
              "    )\n",
              "    (2): DoubleCNNBlock(\n",
              "      (conv1): Conv2d(32, 64, kernel_size=(3, 3), stride=(1, 1), padding=(1, 1), bias=False)\n",
              "      (bn1): BatchNorm2d(64, eps=1e-05, momentum=0.1, affine=True, track_running_stats=True)\n",
              "      (act1): ReLU()\n",
              "      (conv2): Conv2d(64, 64, kernel_size=(3, 3), stride=(1, 1), padding=(1, 1), bias=False)\n",
              "      (bn2): BatchNorm2d(64, eps=1e-05, momentum=0.1, affine=True, track_running_stats=True)\n",
              "      (act2): ReLU()\n",
              "    )\n",
              "    (3): DoubleCNNBlock(\n",
              "      (conv1): Conv2d(64, 128, kernel_size=(3, 3), stride=(1, 1), padding=(1, 1), bias=False)\n",
              "      (bn1): BatchNorm2d(128, eps=1e-05, momentum=0.1, affine=True, track_running_stats=True)\n",
              "      (act1): ReLU()\n",
              "      (conv2): Conv2d(128, 128, kernel_size=(3, 3), stride=(1, 1), padding=(1, 1), bias=False)\n",
              "      (bn2): BatchNorm2d(128, eps=1e-05, momentum=0.1, affine=True, track_running_stats=True)\n",
              "      (act2): ReLU()\n",
              "    )\n",
              "  )\n",
              "  (expand): ModuleList(\n",
              "    (0): UpConv(\n",
              "      (tconv): ConvTranspose2d(256, 128, kernel_size=(2, 2), stride=(2, 2))\n",
              "    )\n",
              "    (1): DoubleCNNBlock(\n",
              "      (conv1): Conv2d(256, 128, kernel_size=(3, 3), stride=(1, 1), padding=(1, 1), bias=False)\n",
              "      (bn1): BatchNorm2d(128, eps=1e-05, momentum=0.1, affine=True, track_running_stats=True)\n",
              "      (act1): ReLU()\n",
              "      (conv2): Conv2d(128, 128, kernel_size=(3, 3), stride=(1, 1), padding=(1, 1), bias=False)\n",
              "      (bn2): BatchNorm2d(128, eps=1e-05, momentum=0.1, affine=True, track_running_stats=True)\n",
              "      (act2): ReLU()\n",
              "    )\n",
              "    (2): UpConv(\n",
              "      (tconv): ConvTranspose2d(128, 64, kernel_size=(2, 2), stride=(2, 2))\n",
              "    )\n",
              "    (3): DoubleCNNBlock(\n",
              "      (conv1): Conv2d(128, 64, kernel_size=(3, 3), stride=(1, 1), padding=(1, 1), bias=False)\n",
              "      (bn1): BatchNorm2d(64, eps=1e-05, momentum=0.1, affine=True, track_running_stats=True)\n",
              "      (act1): ReLU()\n",
              "      (conv2): Conv2d(64, 64, kernel_size=(3, 3), stride=(1, 1), padding=(1, 1), bias=False)\n",
              "      (bn2): BatchNorm2d(64, eps=1e-05, momentum=0.1, affine=True, track_running_stats=True)\n",
              "      (act2): ReLU()\n",
              "    )\n",
              "    (4): UpConv(\n",
              "      (tconv): ConvTranspose2d(64, 32, kernel_size=(2, 2), stride=(2, 2))\n",
              "    )\n",
              "    (5): DoubleCNNBlock(\n",
              "      (conv1): Conv2d(64, 32, kernel_size=(3, 3), stride=(1, 1), padding=(1, 1), bias=False)\n",
              "      (bn1): BatchNorm2d(32, eps=1e-05, momentum=0.1, affine=True, track_running_stats=True)\n",
              "      (act1): ReLU()\n",
              "      (conv2): Conv2d(32, 32, kernel_size=(3, 3), stride=(1, 1), padding=(1, 1), bias=False)\n",
              "      (bn2): BatchNorm2d(32, eps=1e-05, momentum=0.1, affine=True, track_running_stats=True)\n",
              "      (act2): ReLU()\n",
              "    )\n",
              "    (6): UpConv(\n",
              "      (tconv): ConvTranspose2d(32, 16, kernel_size=(2, 2), stride=(2, 2))\n",
              "    )\n",
              "    (7): DoubleCNNBlock(\n",
              "      (conv1): Conv2d(32, 16, kernel_size=(3, 3), stride=(1, 1), padding=(1, 1), bias=False)\n",
              "      (bn1): BatchNorm2d(16, eps=1e-05, momentum=0.1, affine=True, track_running_stats=True)\n",
              "      (act1): ReLU()\n",
              "      (conv2): Conv2d(16, 16, kernel_size=(3, 3), stride=(1, 1), padding=(1, 1), bias=False)\n",
              "      (bn2): BatchNorm2d(16, eps=1e-05, momentum=0.1, affine=True, track_running_stats=True)\n",
              "      (act2): ReLU()\n",
              "    )\n",
              "  )\n",
              "  (pool): MaxPool2d(kernel_size=2, stride=2, padding=0, dilation=1, ceil_mode=False)\n",
              "  (final): Conv2d(16, 8, kernel_size=(3, 3), stride=(1, 1), padding=(1, 1))\n",
              ")"
            ]
          },
          "metadata": {
            "tags": []
          },
          "execution_count": 19
        }
      ]
    },
    {
      "cell_type": "code",
      "metadata": {
        "id": "_tCGZOVNglUf"
      },
      "source": [
        "def DICEloss(preds,outputs,smooth=1):\n",
        "  preds = F.softmax(preds,dim=1)\n",
        "  labels_one_hot = F.one_hot(outputs, num_classes = 8).permute(0,3,1,2).contiguous()\n",
        "  intersection = torch.sum(preds*labels_one_hot)\n",
        "  total = torch.sum(preds*preds) + torch.sum(labels_one_hot*labels_one_hot)\n",
        "  return 1-((2*intersection + smooth)/(total))"
      ],
      "execution_count": null,
      "outputs": []
    },
    {
      "cell_type": "code",
      "metadata": {
        "id": "m3xf4hjyUZje",
        "colab": {
          "base_uri": "https://localhost:8080/"
        },
        "outputId": "f7ab4851-77a4-424a-9362-f4cc13916623"
      },
      "source": [
        "model = Unet(num_classes=8)\n",
        "model.load_state_dict(torch.load('Only 7 classes2'))"
      ],
      "execution_count": null,
      "outputs": [
        {
          "output_type": "execute_result",
          "data": {
            "text/plain": [
              "<All keys matched successfully>"
            ]
          },
          "metadata": {
            "tags": []
          },
          "execution_count": 24
        }
      ]
    },
    {
      "cell_type": "code",
      "metadata": {
        "id": "kWWrE3tP5CAS"
      },
      "source": [
        "model.to(DEVICE)"
      ],
      "execution_count": null,
      "outputs": []
    },
    {
      "cell_type": "code",
      "metadata": {
        "id": "VqhYz_gN09os"
      },
      "source": [
        "opt  = torch.optim.Adam(model.parameters(),lr = 1e-5)"
      ],
      "execution_count": null,
      "outputs": []
    },
    {
      "cell_type": "markdown",
      "metadata": {
        "id": "tLe4spj5Pan5"
      },
      "source": [
        "## *Training the model*"
      ]
    },
    {
      "cell_type": "code",
      "metadata": {
        "id": "2V8jXRpCrK60",
        "colab": {
          "base_uri": "https://localhost:8080/"
        },
        "outputId": "6146d7d7-ddfc-4ee7-8eff-637d56548856"
      },
      "source": [
        "#Training the model \n",
        "model.train()\n",
        "\n",
        "num_epochs = 15\n",
        "loss_per_iteration = []\n",
        "iters = []\n",
        "\n",
        "for epochs in range(1,num_epochs+1):\n",
        "\n",
        "    loss_per_epoch = 0.0\n",
        "    batch_num = 0\n",
        "    for inputs,outputs in tqdm(train_loader):\n",
        "        \n",
        "        torch.cuda.empty_cache()\n",
        "        inputs,outputs = inputs.to(DEVICE),outputs.to(DEVICE)\n",
        "        preds = model(inputs)\n",
        "        loss  = DICEloss(preds,outputs.squeeze(axis=1))\n",
        "        loss.backward()\n",
        "        opt.step()\n",
        "        opt.zero_grad()\n",
        "        loss_per_epoch += loss\n",
        "        batch_num +=1\n",
        "\n",
        "        #print(\"Batch num: {} | Dice Loss:{}\".format(batch_num,loss))\n",
        "    loss_per_iteration.append(loss_per_epoch)\n",
        "    iters.append(epochs)\n",
        "  \n",
        "    print(\"[{}/{}] Loss : {} \".format(epochs,num_epochs,loss_per_epoch))\n",
        "\n",
        "    #Saving the model after every epoch\n",
        "    torch.save(model.state_dict(),'Only 7 classes2')\n",
        "    print(\"Saved the model...\")"
      ],
      "execution_count": null,
      "outputs": [
        {
          "output_type": "stream",
          "text": [
            "100%|██████████| 98/98 [04:33<00:00,  2.79s/it]\n",
            "  0%|          | 0/98 [00:00<?, ?it/s]"
          ],
          "name": "stderr"
        },
        {
          "output_type": "stream",
          "text": [
            "[1/15] Loss : 11.431901931762695 \n",
            "Saved the model...\n"
          ],
          "name": "stdout"
        },
        {
          "output_type": "stream",
          "text": [
            "100%|██████████| 98/98 [04:33<00:00,  2.79s/it]\n",
            "  0%|          | 0/98 [00:00<?, ?it/s]"
          ],
          "name": "stderr"
        },
        {
          "output_type": "stream",
          "text": [
            "[2/15] Loss : 11.335301399230957 \n",
            "Saved the model...\n"
          ],
          "name": "stdout"
        },
        {
          "output_type": "stream",
          "text": [
            "100%|██████████| 98/98 [04:31<00:00,  2.77s/it]\n",
            "  0%|          | 0/98 [00:00<?, ?it/s]"
          ],
          "name": "stderr"
        },
        {
          "output_type": "stream",
          "text": [
            "[3/15] Loss : 11.271146774291992 \n",
            "Saved the model...\n"
          ],
          "name": "stdout"
        },
        {
          "output_type": "stream",
          "text": [
            "100%|██████████| 98/98 [04:30<00:00,  2.76s/it]\n",
            "  0%|          | 0/98 [00:00<?, ?it/s]"
          ],
          "name": "stderr"
        },
        {
          "output_type": "stream",
          "text": [
            "[4/15] Loss : 11.193113327026367 \n",
            "Saved the model...\n"
          ],
          "name": "stdout"
        },
        {
          "output_type": "stream",
          "text": [
            "100%|██████████| 98/98 [04:33<00:00,  2.79s/it]\n",
            "  0%|          | 0/98 [00:00<?, ?it/s]"
          ],
          "name": "stderr"
        },
        {
          "output_type": "stream",
          "text": [
            "[5/15] Loss : 11.125747680664062 \n",
            "Saved the model...\n"
          ],
          "name": "stdout"
        },
        {
          "output_type": "stream",
          "text": [
            "100%|██████████| 98/98 [04:39<00:00,  2.85s/it]\n",
            "  0%|          | 0/98 [00:00<?, ?it/s]"
          ],
          "name": "stderr"
        },
        {
          "output_type": "stream",
          "text": [
            "[6/15] Loss : 11.060759544372559 \n",
            "Saved the model...\n"
          ],
          "name": "stdout"
        },
        {
          "output_type": "stream",
          "text": [
            "100%|██████████| 98/98 [04:36<00:00,  2.82s/it]\n",
            "  0%|          | 0/98 [00:00<?, ?it/s]"
          ],
          "name": "stderr"
        },
        {
          "output_type": "stream",
          "text": [
            "[7/15] Loss : 10.99058723449707 \n",
            "Saved the model...\n"
          ],
          "name": "stdout"
        },
        {
          "output_type": "stream",
          "text": [
            "100%|██████████| 98/98 [04:40<00:00,  2.86s/it]\n",
            "  0%|          | 0/98 [00:00<?, ?it/s]"
          ],
          "name": "stderr"
        },
        {
          "output_type": "stream",
          "text": [
            "[8/15] Loss : 10.94069766998291 \n",
            "Saved the model...\n"
          ],
          "name": "stdout"
        },
        {
          "output_type": "stream",
          "text": [
            "100%|██████████| 98/98 [04:39<00:00,  2.85s/it]\n",
            "  0%|          | 0/98 [00:00<?, ?it/s]"
          ],
          "name": "stderr"
        },
        {
          "output_type": "stream",
          "text": [
            "[9/15] Loss : 10.861589431762695 \n",
            "Saved the model...\n"
          ],
          "name": "stdout"
        },
        {
          "output_type": "stream",
          "text": [
            "100%|██████████| 98/98 [04:38<00:00,  2.84s/it]\n",
            "  0%|          | 0/98 [00:00<?, ?it/s]"
          ],
          "name": "stderr"
        },
        {
          "output_type": "stream",
          "text": [
            "[10/15] Loss : 10.810158729553223 \n",
            "Saved the model...\n"
          ],
          "name": "stdout"
        },
        {
          "output_type": "stream",
          "text": [
            "100%|██████████| 98/98 [04:37<00:00,  2.83s/it]\n",
            "  0%|          | 0/98 [00:00<?, ?it/s]"
          ],
          "name": "stderr"
        },
        {
          "output_type": "stream",
          "text": [
            "[11/15] Loss : 10.738924980163574 \n",
            "Saved the model...\n"
          ],
          "name": "stdout"
        },
        {
          "output_type": "stream",
          "text": [
            "100%|██████████| 98/98 [04:33<00:00,  2.80s/it]\n",
            "  0%|          | 0/98 [00:00<?, ?it/s]"
          ],
          "name": "stderr"
        },
        {
          "output_type": "stream",
          "text": [
            "[12/15] Loss : 10.681622505187988 \n",
            "Saved the model...\n"
          ],
          "name": "stdout"
        },
        {
          "output_type": "stream",
          "text": [
            "100%|██████████| 98/98 [04:30<00:00,  2.76s/it]\n",
            "  0%|          | 0/98 [00:00<?, ?it/s]"
          ],
          "name": "stderr"
        },
        {
          "output_type": "stream",
          "text": [
            "[13/15] Loss : 10.622701644897461 \n",
            "Saved the model...\n"
          ],
          "name": "stdout"
        },
        {
          "output_type": "stream",
          "text": [
            "100%|██████████| 98/98 [04:31<00:00,  2.77s/it]\n",
            "  0%|          | 0/98 [00:00<?, ?it/s]"
          ],
          "name": "stderr"
        },
        {
          "output_type": "stream",
          "text": [
            "[14/15] Loss : 10.55465316772461 \n",
            "Saved the model...\n"
          ],
          "name": "stdout"
        },
        {
          "output_type": "stream",
          "text": [
            "100%|██████████| 98/98 [04:36<00:00,  2.82s/it]"
          ],
          "name": "stderr"
        },
        {
          "output_type": "stream",
          "text": [
            "[15/15] Loss : 10.499202728271484 \n",
            "Saved the model...\n"
          ],
          "name": "stdout"
        },
        {
          "output_type": "stream",
          "text": [
            "\n"
          ],
          "name": "stderr"
        }
      ]
    },
    {
      "cell_type": "code",
      "metadata": {
        "colab": {
          "base_uri": "https://localhost:8080/",
          "height": 313
        },
        "id": "g4oOOQYsmCEf",
        "outputId": "95861bb2-5ad9-4745-e1ba-4488443d01ee"
      },
      "source": [
        "plt.title('Loss with epochs')\n",
        "plt.xlabel('Iterations')\n",
        "plt.ylabel('Loss')\n",
        "plt.plot(iters,loss_per_iteration)"
      ],
      "execution_count": null,
      "outputs": [
        {
          "output_type": "execute_result",
          "data": {
            "text/plain": [
              "[<matplotlib.lines.Line2D at 0x7f9de42caf90>]"
            ]
          },
          "metadata": {
            "tags": []
          },
          "execution_count": 28
        },
        {
          "output_type": "display_data",
          "data": {
            "image/png": "[encoded data removed]",
            "text/plain": [
              "<Figure size 432x288 with 1 Axes>"
            ]
          },
          "metadata": {
            "tags": [],
            "needs_background": "light"
          }
        }
      ]
    },
    {
      "cell_type": "code",
      "metadata": {
        "colab": {
          "base_uri": "https://localhost:8080/",
          "height": 287
        },
        "id": "cUhQgXywOSSD",
        "outputId": "4e305277-e4d9-4a66-e14a-ff37d3d87621"
      },
      "source": [
        "plt.imshow(torch.argmax(F.softmax(model(TF.to_tensor(TF.resize(image,size=(256,256))).to(DEVICE).unsqueeze(0)),dim=1),axis=1).cpu()[0],cmap='gray')"
      ],
      "execution_count": null,
      "outputs": [
        {
          "output_type": "execute_result",
          "data": {
            "text/plain": [
              "<matplotlib.image.AxesImage at 0x7f9de4243b90>"
            ]
          },
          "metadata": {
            "tags": []
          },
          "execution_count": 29
        },
        {
          "output_type": "display_data",
          "data": {
            "image/png": "[encoded data removed]",
            "text/plain": [
              "<Figure size 432x288 with 1 Axes>"
            ]
          },
          "metadata": {
            "tags": [],
            "needs_background": "light"
          }
        }
      ]
    },
    {
      "cell_type": "code",
      "metadata": {
        "colab": {
          "base_uri": "https://localhost:8080/",
          "height": 287
        },
        "id": "xwr0zAzWOuye",
        "outputId": "0800d03e-3790-4541-e189-b38ed5b09117"
      },
      "source": [
        "plt.imshow((TF.to_tensor(TF.resize(label,size=(256,256))))[0],cmap='gray')"
      ],
      "execution_count": null,
      "outputs": [
        {
          "output_type": "execute_result",
          "data": {
            "text/plain": [
              "<matplotlib.image.AxesImage at 0x7f9de41c7b50>"
            ]
          },
          "metadata": {
            "tags": []
          },
          "execution_count": 30
        },
        {
          "output_type": "display_data",
          "data": {
            "image/png": "[encoded data removed]",
            "text/plain": [
              "<Figure size 432x288 with 1 Axes>"
            ]
          },
          "metadata": {
            "tags": [],
            "needs_background": "light"
          }
        }
      ]
    },
    {
      "cell_type": "code",
      "metadata": {
        "id": "Ut7CH1KHqis3"
      },
      "source": [
        "img = torch.argmax(F.softmax(model(TF.to_tensor(TF.resize(image,size=(256,256))).to(DEVICE).unsqueeze(0)),dim=1),axis=1)"
      ],
      "execution_count": null,
      "outputs": []
    },
    {
      "cell_type": "code",
      "metadata": {
        "id": "l5QNNdSmrUeF"
      },
      "source": [
        "color_array = np.array([[0,0,0],\n",
        "               [128,64,128],\n",
        "               [70,70,70],\n",
        "               [0,102,0],\n",
        "               [28,42,168],\n",
        "               [125,22,96],\n",
        "               [9,143,150]])\n",
        "print(color_array)"
      ],
      "execution_count": null,
      "outputs": []
    },
    {
      "cell_type": "code",
      "metadata": {
        "colab": {
          "base_uri": "https://localhost:8080/",
          "height": 287
        },
        "id": "7RLmVvJDa7qH",
        "outputId": "8b2a4fc2-0a5d-4da9-fc36-2f12c3158d00"
      },
      "source": [
        "from skimage.color import label2rgb\n",
        "plt.imshow(label2rgb(img.view(256,256).detach().cpu().numpy()))"
      ],
      "execution_count": null,
      "outputs": [
        {
          "output_type": "execute_result",
          "data": {
            "text/plain": [
              "<matplotlib.image.AxesImage at 0x7f9d7e062c10>"
            ]
          },
          "metadata": {
            "tags": []
          },
          "execution_count": 35
        },
        {
          "output_type": "display_data",
          "data": {
            "image/png": "[encoded data removed]",
            "text/plain": [
              "<Figure size 432x288 with 1 Axes>"
            ]
          },
          "metadata": {
            "tags": [],
            "needs_background": "light"
          }
        }
      ]
    }
  ]
}